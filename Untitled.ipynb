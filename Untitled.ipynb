{
 "cells": [
  {
   "cell_type": "markdown",
   "metadata": {},
   "source": [
    "1.Import all libraries and scraping one\n",
    "2. Import all libraries we used for SQL Lite\n",
    "3. Query our database and retrieve all entries\n",
    "4. For each entry we'll scrape the listing date, listing price from URL that's in database\n",
    "5. Update database"
   ]
  },
  {
   "cell_type": "code",
   "execution_count": 1,
   "metadata": {},
   "outputs": [],
   "source": [
    "from bs4 import BeautifulSoup\n",
    "import requests\n",
    "import sqlite3\n",
    "conn = sqlite3.connect('sanfrancisco.db')\n",
    "import datetime"
   ]
  },
  {
   "cell_type": "code",
   "execution_count": 11,
   "metadata": {},
   "outputs": [],
   "source": [
    "def scrape(url):\n",
    "\n",
    "    headers = {'User-Agent': 'Mozilla/5.0 (Macintosh; Intel Mac OS X 10_10_1) AppleWebKit/537.36 (KHTML, like Gecko) Chrome/39.0.2171.95 Safari/537.36'}\n",
    "    response = requests.get(url, headers=headers)\n",
    "\n",
    "    print(response)\n",
    "\n",
    "    soup = BeautifulSoup(response.text,'html.parser')\n",
    "    results = soup.find_all('span', class_=\"entryItemContent\")\n",
    "\n",
    "    original_price=None\n",
    "    for result in results:\n",
    "        try:\n",
    "            index = result.text.find(\"Original Price: $\")\n",
    "            if index != -1:\n",
    "                price=result.text[17:len(result.text)]\n",
    "                print(price)\n",
    "                original_price=int(price.replace(',',''))\n",
    "                print(\"Original Price: \" + (str(original_price)))\n",
    "                  \n",
    "                break\n",
    "      \n",
    "        except AttributeError as e:\n",
    "            print(e)\n",
    "            \n",
    "    print(original_price)\n",
    "    \n",
    "    listing_date=None\n",
    "    for result in results:\n",
    "        try:\n",
    "            search_string = \"On Market Date: \"\n",
    "            index = result.text.find(search_string)\n",
    "            if index != -1:\n",
    "                listing_date=result.text[len(search_string):len(result.text)]\n",
    "                print(\"Listing Date: \" + (str(listing_date)))\n",
    "                listing_date=int(datetime.datetime.strptime(listing_date,\"%A, %B %d, %Y\").strftime(\"%s\"))\n",
    "\n",
    "                break\n",
    "\n",
    "        except AttributeError as e:\n",
    "                print(e)\n",
    "                print(listing_date)\n",
    "    return original_price, listing_date"
   ]
  },
  {
   "cell_type": "code",
   "execution_count": 12,
   "metadata": {},
   "outputs": [
    {
     "name": "stdout",
     "output_type": "stream",
     "text": [
      "31 Romain St\n",
      "http://www.redfin.com/CA/San-Francisco/31-Romain-St-94114/home/1316364\n",
      "('31 Romain St', 'http://www.redfin.com/CA/San-Francisco/31-Romain-St-94114/home/1316364')\n",
      "<Response [200]>\n",
      "2,485,000\n",
      "Original Price: 2485000\n",
      "2485000\n",
      "Listing Date: Wednesday, February 6, 2019\n",
      "(2485000, 1549440000)\n"
     ]
    }
   ],
   "source": [
    "c = conn.cursor()\n",
    "c.execute(\"SELECT Address, URL FROM Address\")\n",
    "\n",
    "rows = c.fetchall()\n",
    "\n",
    "for row in rows:\n",
    "    address = row[0]\n",
    "    url = row[1]\n",
    "    print(address)\n",
    "    print(url)\n",
    "    print(row)\n",
    "    \n",
    "    redfin=scrape(url)\n",
    "    original_price = redfin[0]\n",
    "    listing_date = redfin[1]\n",
    "    \n",
    "    c.execute('''INSERT OR REPLACE INTO Address (Address,City,State,Zipcode,Location,\n",
    "            Days_on_Market,Sold_Price,Sold_date,Bedroom,Bathroom,Sq_ft,Latitude,Longitude,URL) \n",
    "            VALUES (?,?,?,?,?,?,?,?,?,?,?,?,?,?)\n",
    "            ''', (Address,City,State,Zip,location,days_on_market,sold_price,sold_date,bedroom,bath,sq_ft,latitude,longitude,url))\n",
    "            conn.commit()\n",
    "    \n",
    "    break\n"
   ]
  },
  {
   "cell_type": "code",
   "execution_count": 4,
   "metadata": {},
   "outputs": [],
   "source": [
    "#Parse the string to add the Listing Price/Sold Price\n"
   ]
  }
 ],
 "metadata": {
  "kernelspec": {
   "display_name": "Python 3",
   "language": "python",
   "name": "python3"
  },
  "language_info": {
   "codemirror_mode": {
    "name": "ipython",
    "version": 3
   },
   "file_extension": ".py",
   "mimetype": "text/x-python",
   "name": "python",
   "nbconvert_exporter": "python",
   "pygments_lexer": "ipython3",
   "version": "3.7.2"
  }
 },
 "nbformat": 4,
 "nbformat_minor": 2
}
